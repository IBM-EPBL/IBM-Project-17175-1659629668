{
  "nbformat": 4,
  "nbformat_minor": 0,
  "metadata": {
    "colab": {
      "provenance": []
    },
    "kernelspec": {
      "name": "python3",
      "display_name": "Python 3"
    },
    "language_info": {
      "name": "python"
    }
  },
  "cells": [
    {
      "cell_type": "code",
      "execution_count": 2,
      "metadata": {
        "colab": {
          "base_uri": "https://localhost:8080/"
        },
        "id": "pWlhyBPI-1aC",
        "outputId": "1b2773c1-a11e-42c4-9e7f-6bb6767ceb1a"
      },
      "outputs": [
        {
          "output_type": "stream",
          "name": "stdout",
          "text": [
            "Mounted at /content/drive\n"
          ]
        }
      ],
      "source": [
        "from google.colab import drive\n",
        "drive.mount(\"/content/drive\")"
      ]
    },
    {
      "cell_type": "markdown",
      "source": [
        "## Image Augmentation\n"
      ],
      "metadata": {
        "id": "IYNUzGfpoaEB"
      }
    },
    {
      "cell_type": "code",
      "source": [
        "from tensorflow.keras.preprocessing.image import ImageDataGenerator"
      ],
      "metadata": {
        "id": "JkalNeiNjfTd"
      },
      "execution_count": 4,
      "outputs": []
    },
    {
      "cell_type": "code",
      "source": [
        "train_datagen=ImageDataGenerator(rescale=1.0/255,horizontal_flip=True,vertical_flip=True,zoom_range=0.3)"
      ],
      "metadata": {
        "id": "fEsdgHTmjLa7"
      },
      "execution_count": 12,
      "outputs": []
    },
    {
      "cell_type": "code",
      "source": [
        "test_datagen=ImageDataGenerator(rescale=1.0/25)"
      ],
      "metadata": {
        "id": "lusAIEd4jRdP"
      },
      "execution_count": 6,
      "outputs": []
    },
    {
      "cell_type": "code",
      "source": [],
      "metadata": {
        "id": "1Cv2b4apjLdr"
      },
      "execution_count": null,
      "outputs": []
    },
    {
      "cell_type": "markdown",
      "source": [
        "### Spliting the train and test set"
      ],
      "metadata": {
        "id": "PzbTyR8qzcsq"
      }
    },
    {
      "cell_type": "code",
      "source": [
        "pip install split-folders"
      ],
      "metadata": {
        "colab": {
          "base_uri": "https://localhost:8080/"
        },
        "id": "W2fPqadwjLg0",
        "outputId": "d007fff4-caa1-4733-95a1-d6a9fd919396"
      },
      "execution_count": 8,
      "outputs": [
        {
          "output_type": "stream",
          "name": "stdout",
          "text": [
            "Looking in indexes: https://pypi.org/simple, https://us-python.pkg.dev/colab-wheels/public/simple/\n",
            "Collecting split-folders\n",
            "  Downloading split_folders-0.5.1-py3-none-any.whl (8.4 kB)\n",
            "Installing collected packages: split-folders\n",
            "Successfully installed split-folders-0.5.1\n"
          ]
        }
      ]
    },
    {
      "cell_type": "code",
      "source": [
        "import splitfolders"
      ],
      "metadata": {
        "id": "xvN3Mv3CjLkF"
      },
      "execution_count": 9,
      "outputs": []
    },
    {
      "cell_type": "code",
      "source": [
        "splitfolders.ratio(\"/content/drive/MyDrive/nalaya thiran/flowers\",output=\"/content/drive/MyDrive/nalaya thiran/flowers_dataset\",move=True,ratio=(0.7,0.3,0.0))"
      ],
      "metadata": {
        "colab": {
          "base_uri": "https://localhost:8080/"
        },
        "id": "IiFi6zoRjLrn",
        "outputId": "a3f5189e-3ca2-49b3-97ff-fa4bd6e71e50"
      },
      "execution_count": 10,
      "outputs": [
        {
          "output_type": "stream",
          "name": "stderr",
          "text": [
            "Copying files: 4327 files [00:21, 201.09 files/s]\n"
          ]
        }
      ]
    },
    {
      "cell_type": "markdown",
      "source": [
        "### Continuing data augmentation"
      ],
      "metadata": {
        "id": "bYTv5neZ00AH"
      }
    },
    {
      "cell_type": "code",
      "source": [
        "x_train= train_datagen.flow_from_directory(r\"/content/drive/MyDrive/nalaya thiran/flowers_dataset/train\",target_size=(64,64),class_mode=\"categorical\",batch_size=24)"
      ],
      "metadata": {
        "colab": {
          "base_uri": "https://localhost:8080/"
        },
        "id": "SmkB4_K4y0ec",
        "outputId": "c4cd6bce-4f0b-4d28-f7cb-f2b15dd9b13e"
      },
      "execution_count": 14,
      "outputs": [
        {
          "output_type": "stream",
          "name": "stdout",
          "text": [
            "Found 3026 images belonging to 5 classes.\n"
          ]
        }
      ]
    },
    {
      "cell_type": "code",
      "source": [
        "x_train.class_indices"
      ],
      "metadata": {
        "colab": {
          "base_uri": "https://localhost:8080/"
        },
        "id": "NvZ_LNY-y0h_",
        "outputId": "56372697-a40d-42c9-e3ee-cf9bcd284a0c"
      },
      "execution_count": 15,
      "outputs": [
        {
          "output_type": "execute_result",
          "data": {
            "text/plain": [
              "{'daisy': 0, 'dandelion': 1, 'rose': 2, 'sunflower': 3, 'tulip': 4}"
            ]
          },
          "metadata": {},
          "execution_count": 15
        }
      ]
    },
    {
      "cell_type": "code",
      "source": [
        "x_test= test_datagen.flow_from_directory(r\"/content/drive/MyDrive/nalaya thiran/flowers_dataset/test\",target_size=(64,64),class_mode=\"categorical\",batch_size=24)"
      ],
      "metadata": {
        "colab": {
          "base_uri": "https://localhost:8080/"
        },
        "id": "iCi3GLvB7XF6",
        "outputId": "5bfd631f-3950-40fd-e8be-e238b33d3139"
      },
      "execution_count": 32,
      "outputs": [
        {
          "output_type": "stream",
          "name": "stdout",
          "text": [
            "Found 5 images belonging to 5 classes.\n"
          ]
        }
      ]
    },
    {
      "cell_type": "markdown",
      "source": [
        "### Model creation"
      ],
      "metadata": {
        "id": "QY43QByW18e_"
      }
    },
    {
      "cell_type": "code",
      "source": [
        "from tensorflow.keras.models import Sequential\n",
        "from tensorflow.keras.layers import Convolution2D,MaxPooling2D,Flatten,Dense"
      ],
      "metadata": {
        "id": "9uU9Zvpj1oJB"
      },
      "execution_count": 23,
      "outputs": []
    },
    {
      "cell_type": "code",
      "source": [
        "model = Sequential()"
      ],
      "metadata": {
        "id": "8EMy_Ns61oLL"
      },
      "execution_count": 21,
      "outputs": []
    },
    {
      "cell_type": "code",
      "source": [
        "model.add(Convolution2D(32,(3,3),activation=\"relu\",strides=(1,1),input_shape=(64,64,3)))"
      ],
      "metadata": {
        "id": "Wib8NC192nFu"
      },
      "execution_count": 22,
      "outputs": []
    },
    {
      "cell_type": "code",
      "source": [
        "model.add(MaxPooling2D(pool_size=(2,2)))"
      ],
      "metadata": {
        "id": "FBlhBCfz2nIX"
      },
      "execution_count": 24,
      "outputs": []
    },
    {
      "cell_type": "code",
      "source": [
        "model.add(Flatten())"
      ],
      "metadata": {
        "id": "GVm0PPDQ2nLH"
      },
      "execution_count": 25,
      "outputs": []
    },
    {
      "cell_type": "code",
      "source": [
        "model.summary()"
      ],
      "metadata": {
        "colab": {
          "base_uri": "https://localhost:8080/"
        },
        "id": "Tbu-bnh12nN5",
        "outputId": "75586782-4601-47bd-dcf4-e6aad3e5e667"
      },
      "execution_count": 28,
      "outputs": [
        {
          "output_type": "stream",
          "name": "stdout",
          "text": [
            "Model: \"sequential\"\n",
            "_________________________________________________________________\n",
            " Layer (type)                Output Shape              Param #   \n",
            "=================================================================\n",
            " conv2d (Conv2D)             (None, 62, 62, 32)        896       \n",
            "                                                                 \n",
            " max_pooling2d (MaxPooling2D  (None, 31, 31, 32)       0         \n",
            " )                                                               \n",
            "                                                                 \n",
            " flatten (Flatten)           (None, 30752)             0         \n",
            "                                                                 \n",
            "=================================================================\n",
            "Total params: 896\n",
            "Trainable params: 896\n",
            "Non-trainable params: 0\n",
            "_________________________________________________________________\n"
          ]
        }
      ]
    },
    {
      "cell_type": "code",
      "source": [
        "model.add(Dense(300,activation=\"relu\"))\n",
        "model.add(Dense(300,activation=\"relu\"))"
      ],
      "metadata": {
        "id": "YY8B_NZM4rqI"
      },
      "execution_count": 29,
      "outputs": []
    },
    {
      "cell_type": "code",
      "source": [
        "model.add(Dense(5,activation=\"softmax\"))\n"
      ],
      "metadata": {
        "id": "wIKE-SUP4rtG"
      },
      "execution_count": 30,
      "outputs": []
    },
    {
      "cell_type": "code",
      "source": [
        "model.compile(loss=\"categorical_crossentropy\",optimizer=\"adam\",metrics=[\"accuracy\"])"
      ],
      "metadata": {
        "id": "5bFlgjSU5fnF"
      },
      "execution_count": 31,
      "outputs": []
    },
    {
      "cell_type": "markdown",
      "source": [
        "### fitting the model"
      ],
      "metadata": {
        "id": "uVfxj10U6NZH"
      }
    },
    {
      "cell_type": "code",
      "source": [
        "model.fit(x_train,epochs=10,steps_per_epoch=len(x_train),validation_data=x_test,validation_steps=len(x_test))"
      ],
      "metadata": {
        "colab": {
          "base_uri": "https://localhost:8080/"
        },
        "id": "j2He8r2H5fqm",
        "outputId": "c4fb32ea-b565-42f0-cec0-6a402610808c"
      },
      "execution_count": 33,
      "outputs": [
        {
          "output_type": "stream",
          "name": "stdout",
          "text": [
            "Epoch 1/10\n",
            "127/127 [==============================] - 1080s 8s/step - loss: 1.3802 - accuracy: 0.4438 - val_loss: 5.9263 - val_accuracy: 0.4000\n",
            "Epoch 2/10\n",
            "127/127 [==============================] - 30s 238ms/step - loss: 1.0946 - accuracy: 0.5565 - val_loss: 8.3239 - val_accuracy: 0.6000\n",
            "Epoch 3/10\n",
            "127/127 [==============================] - 31s 240ms/step - loss: 1.0275 - accuracy: 0.5839 - val_loss: 8.6903 - val_accuracy: 0.4000\n",
            "Epoch 4/10\n",
            "127/127 [==============================] - 31s 243ms/step - loss: 0.9843 - accuracy: 0.6117 - val_loss: 7.8105 - val_accuracy: 0.6000\n",
            "Epoch 5/10\n",
            "127/127 [==============================] - 33s 256ms/step - loss: 0.9544 - accuracy: 0.6206 - val_loss: 8.9049 - val_accuracy: 0.6000\n",
            "Epoch 6/10\n",
            "127/127 [==============================] - 31s 243ms/step - loss: 0.8873 - accuracy: 0.6530 - val_loss: 10.5686 - val_accuracy: 0.6000\n",
            "Epoch 7/10\n",
            "127/127 [==============================] - 31s 245ms/step - loss: 0.8883 - accuracy: 0.6530 - val_loss: 9.2488 - val_accuracy: 0.6000\n",
            "Epoch 8/10\n",
            "127/127 [==============================] - 31s 240ms/step - loss: 0.8453 - accuracy: 0.6682 - val_loss: 11.0832 - val_accuracy: 0.8000\n",
            "Epoch 9/10\n",
            "127/127 [==============================] - 31s 246ms/step - loss: 0.8175 - accuracy: 0.6864 - val_loss: 10.3814 - val_accuracy: 0.6000\n",
            "Epoch 10/10\n",
            "127/127 [==============================] - 31s 245ms/step - loss: 0.8377 - accuracy: 0.6715 - val_loss: 15.2004 - val_accuracy: 0.6000\n"
          ]
        },
        {
          "output_type": "execute_result",
          "data": {
            "text/plain": [
              "<keras.callbacks.History at 0x7f4ab52ce9d0>"
            ]
          },
          "metadata": {},
          "execution_count": 33
        }
      ]
    },
    {
      "cell_type": "code",
      "source": [],
      "metadata": {
        "id": "GwSI7ObwBpH8"
      },
      "execution_count": null,
      "outputs": []
    },
    {
      "cell_type": "code",
      "source": [
        "model.save(\"flowers_classifier.h5\")"
      ],
      "metadata": {
        "id": "X9rYwrleBpWa"
      },
      "execution_count": 35,
      "outputs": []
    },
    {
      "cell_type": "markdown",
      "source": [
        "### Testing the model (taking the image of a daisy flower)"
      ],
      "metadata": {
        "id": "efB5Hz6YLsdk"
      }
    },
    {
      "cell_type": "code",
      "source": [
        "import numpy as np\n",
        "from tensorflow.keras.models import load_model\n",
        "from tensorflow.keras.preprocessing import image"
      ],
      "metadata": {
        "id": "FY6a2zzpLlWZ"
      },
      "execution_count": 37,
      "outputs": []
    },
    {
      "cell_type": "code",
      "source": [
        "model=load_model('flowers_classifier.h5')"
      ],
      "metadata": {
        "id": "QbHsFChTMDV1"
      },
      "execution_count": 38,
      "outputs": []
    },
    {
      "cell_type": "code",
      "source": [
        "img=image.load_img(r\"/content/drive/MyDrive/nalaya thiran/flowers_dataset/test/daisy/5973488341_50bdf6cee3_n.jpg\",target_size=(64,64))\n",
        "img"
      ],
      "metadata": {
        "colab": {
          "base_uri": "https://localhost:8080/",
          "height": 81
        },
        "id": "fgYq_V7TMDYc",
        "outputId": "f9f3fb63-f04c-4c10-e6e3-cecb53eac2d3"
      },
      "execution_count": 41,
      "outputs": [
        {
          "output_type": "execute_result",
          "data": {
            "text/plain": [
              "<PIL.Image.Image image mode=RGB size=64x64 at 0x7F4AB4A10A10>"
            ],
            "image/png": "[encoded data removed]"
          },
          "metadata": {},
          "execution_count": 41
        }
      ]
    },
    {
      "cell_type": "code",
      "source": [
        "img_pixels=image.img_to_array(img)\n",
        "img_pixels"
      ],
      "metadata": {
        "colab": {
          "base_uri": "https://localhost:8080/"
        },
        "id": "Pwzg_UXoMY4G",
        "outputId": "9fecf41c-f19c-4de6-ace1-f6ed9b8c2a8c"
      },
      "execution_count": 43,
      "outputs": [
        {
          "output_type": "execute_result",
          "data": {
            "text/plain": [
              "array([[[24., 26.,  2.],\n",
              "        [22., 24.,  0.],\n",
              "        [19., 21.,  0.],\n",
              "        ...,\n",
              "        [21., 15.,  1.],\n",
              "        [24., 17.,  0.],\n",
              "        [27., 20.,  1.]],\n",
              "\n",
              "       [[31., 30.,  0.],\n",
              "        [32., 31.,  0.],\n",
              "        [27., 27.,  1.],\n",
              "        ...,\n",
              "        [20., 12.,  1.],\n",
              "        [23., 16.,  0.],\n",
              "        [25., 18.,  0.]],\n",
              "\n",
              "       [[36., 36.,  0.],\n",
              "        [33., 35.,  0.],\n",
              "        [33., 32.,  1.],\n",
              "        ...,\n",
              "        [19., 11.,  0.],\n",
              "        [19., 11.,  0.],\n",
              "        [21., 13.,  2.]],\n",
              "\n",
              "       ...,\n",
              "\n",
              "       [[ 0.,  0.,  0.],\n",
              "        [ 0.,  0.,  0.],\n",
              "        [ 0.,  0.,  0.],\n",
              "        ...,\n",
              "        [ 0.,  0.,  0.],\n",
              "        [ 0.,  0.,  0.],\n",
              "        [ 0.,  0.,  0.]],\n",
              "\n",
              "       [[ 0.,  0.,  0.],\n",
              "        [ 0.,  0.,  0.],\n",
              "        [ 0.,  0.,  0.],\n",
              "        ...,\n",
              "        [ 0.,  0.,  0.],\n",
              "        [ 0.,  0.,  0.],\n",
              "        [ 0.,  0.,  0.]],\n",
              "\n",
              "       [[ 0.,  0.,  0.],\n",
              "        [ 0.,  0.,  0.],\n",
              "        [ 0.,  0.,  0.],\n",
              "        ...,\n",
              "        [ 0.,  0.,  0.],\n",
              "        [ 0.,  0.,  0.],\n",
              "        [ 0.,  0.,  0.]]], dtype=float32)"
            ]
          },
          "metadata": {},
          "execution_count": 43
        }
      ]
    },
    {
      "cell_type": "code",
      "source": [
        "img_pixels=np.expand_dims(img_pixels,axis=0)"
      ],
      "metadata": {
        "id": "JH6NEv7nMZEL"
      },
      "execution_count": 45,
      "outputs": []
    },
    {
      "cell_type": "code",
      "source": [
        "pred=model.predict(img_pixels)"
      ],
      "metadata": {
        "id": "hwKpq0HVPV30"
      },
      "execution_count": 46,
      "outputs": []
    },
    {
      "cell_type": "code",
      "source": [
        "pred"
      ],
      "metadata": {
        "colab": {
          "base_uri": "https://localhost:8080/"
        },
        "id": "FK7G9_DUPV6Y",
        "outputId": "5629d533-d5ff-4ac6-931b-16883adec127"
      },
      "execution_count": 47,
      "outputs": [
        {
          "output_type": "execute_result",
          "data": {
            "text/plain": [
              "array([[1., 0., 0., 0., 0.]], dtype=float32)"
            ]
          },
          "metadata": {},
          "execution_count": 47
        }
      ]
    },
    {
      "cell_type": "code",
      "source": [
        "x_test.class_indices"
      ],
      "metadata": {
        "colab": {
          "base_uri": "https://localhost:8080/"
        },
        "id": "vRY4_BcAPgBn",
        "outputId": "a335f225-dba6-4fd2-b3d5-7584cef75d98"
      },
      "execution_count": 48,
      "outputs": [
        {
          "output_type": "execute_result",
          "data": {
            "text/plain": [
              "{'daisy': 0, 'dandelion': 1, 'rose': 2, 'sunflower': 3, 'tulip': 4}"
            ]
          },
          "metadata": {},
          "execution_count": 48
        }
      ]
    },
    {
      "cell_type": "code",
      "source": [
        "index=[]\n",
        "for i in x_test.class_indices.keys():\n",
        "  index.append(i)"
      ],
      "metadata": {
        "id": "lbLlV8sfPgJ7"
      },
      "execution_count": 50,
      "outputs": []
    },
    {
      "cell_type": "code",
      "source": [
        "index[np.argmax(pred)]"
      ],
      "metadata": {
        "colab": {
          "base_uri": "https://localhost:8080/",
          "height": 35
        },
        "id": "fsjoV3ryQJBh",
        "outputId": "d20395fc-2a7e-4120-ded3-57d661dc17a6"
      },
      "execution_count": 52,
      "outputs": [
        {
          "output_type": "execute_result",
          "data": {
            "text/plain": [
              "'daisy'"
            ],
            "application/vnd.google.colaboratory.intrinsic+json": {
              "type": "string"
            }
          },
          "metadata": {},
          "execution_count": 52
        }
      ]
    }
  ]
}